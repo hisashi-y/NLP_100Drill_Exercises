{
  "nbformat": 4,
  "nbformat_minor": 0,
  "metadata": {
    "colab": {
      "name": "NLP_100Drill_Exercises_CH1",
      "provenance": [],
      "authorship_tag": "ABX9TyPgRnZuK9bEnt29ILScEd5R",
      "include_colab_link": true
    },
    "kernelspec": {
      "name": "python3",
      "display_name": "Python 3"
    },
    "language_info": {
      "name": "python"
    }
  },
  "cells": [
    {
      "cell_type": "markdown",
      "metadata": {
        "id": "view-in-github",
        "colab_type": "text"
      },
      "source": [
        "<a href=\"https://colab.research.google.com/github/hisashi-y/NLP_100Drill_Exercises/blob/main/NLP_100Drill_Exercises_CH1.ipynb\" target=\"_parent\"><img src=\"https://colab.research.google.com/assets/colab-badge.svg\" alt=\"Open In Colab\"/></a>"
      ]
    },
    {
      "cell_type": "code",
      "metadata": {
        "colab": {
          "base_uri": "https://localhost:8080/"
        },
        "id": "-WrAWb32xjo2",
        "outputId": "9f32d87c-38e7-4359-baea-c9d115687940"
      },
      "source": [
        "s1 = '逆順になるよ'\n",
        "#print(s1[::-1])\n",
        "\n",
        "s2 = 'ミノムッチ'\n",
        "s3 = 'ラグラージ'\n",
        "#print(s2[::2])\n",
        "s4 = ''.join([i + j for i, j in zip(s2, s3)])\n",
        "#print(s4)\n",
        "\n",
        "import re\n",
        "s5 = 'Now I need a drink, alcoholic of course, after the heavy lectures involving quantum mechanics.'\n",
        "s5 = re.sub('[,¥.]', '', s5)\n",
        "splits = s5.split()\n",
        "ans_splits = [len(i) for i in splits]\n",
        "#print(ans_splits)\n",
        "\n",
        "s6 = 'Hi He Lied Because Boron Could Not Oxidize Fluorine. New Nations Might Also Sign Peace Security Clause. Arthur King Can.'\n",
        "s6 = s6.split()\n",
        "one_ch = [1, 5, 6, 7, 8, 9, 15, 16, 19]\n",
        "ans_s5 = {}\n",
        "\n",
        "for i, word in enumerate(s6):\n",
        "  if i +1 in one_ch:\n",
        "    ans_s5[word[:1]] = i + 1\n",
        "  else:\n",
        "    ans_s5[word[:2]] = i + 1\n",
        "#print(ans_s5)\n",
        "\n",
        "s6 = 'I am an NLPer'\n",
        "def ngram(n, lst):\n",
        "  return_lst = []\n",
        "  for i, j in [lst[i:i+n] for i in range(len(lst) - n + 1)]:\n",
        "    return_lst.append((i, j))\n",
        "  return return_lst\n",
        "\n",
        "#print(ngram(2, s6.split()))\n",
        "s7 = 'paraparaparadise'\n",
        "s8 = 'paragraph'\n",
        "X = set(ngram(2, s7))\n",
        "Y = set(ngram(2, s8))\n",
        "union = X | Y\n",
        "intersection = X & Y\n",
        "difference = X - Y\n",
        "#print('X:', X)\n",
        "#print('Y:', Y)\n",
        "#print('和集合:', union)\n",
        "#print('積集合:', intersection)\n",
        "#print('差集合:', difference)\n",
        "#print('Xにseが含まれるか:', {('s', 'e')} <= X)\n",
        "#print('Yにseが含まれるか:', {('s', 'e')} <= Y)\n",
        "\n",
        "def generate_sentence(x, y, z):\n",
        "  print(f'{x}時のとき{y}は{z}')\n",
        "generate_sentence(12, '気温', 33.4)\n",
        "\n",
        "def cipher(str):\n",
        "  rep = [chr(219 - ord(i)) if i.islower() else i for i in str]\n",
        "  return ''.join(rep)\n",
        "\n",
        "s9 = 'the quick brown fox jumps over the lazy dog'\n",
        "#s9 = cipher(s9)\n",
        "#print('暗号化',s9)\n",
        "#s9 = cipher(s9)\n",
        "#print('復号化',s9)\n",
        "\n",
        "import random\n",
        "\n",
        "def shuffle(sentence):\n",
        "  result = []\n",
        "  for word in sentence.split():\n",
        "    if len(word) > 4:\n",
        "      word = word[:1] + ''.join(random.sample(word[1:-1], len(word) - 2)) + word[-1:]\n",
        "    result.append(word)\n",
        "  return ' '.join(result)\n",
        "\n",
        "s10 = 'I couldn’t believe that I could actually understand what I was reading : the phenomenal power of the human mind .'\n",
        "ans = shuffle(s10)\n",
        "print(ans)"
      ],
      "execution_count": 45,
      "outputs": [
        {
          "output_type": "stream",
          "text": [
            "12時のとき気温は33.4\n",
            "I cdnu’olt bilveee that I cuold atulacly untsenardd what I was rineadg : the pmaeonhenl pewor of the hmuan mind .\n"
          ],
          "name": "stdout"
        }
      ]
    }
  ]
}